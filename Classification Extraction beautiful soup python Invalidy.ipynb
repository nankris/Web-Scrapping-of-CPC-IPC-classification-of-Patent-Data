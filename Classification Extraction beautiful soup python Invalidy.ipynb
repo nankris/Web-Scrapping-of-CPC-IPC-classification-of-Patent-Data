{
 "cells": [
  {
   "cell_type": "code",
   "execution_count": 19,
   "metadata": {
    "scrolled": true
   },
   "outputs": [
    {
     "name": "stdout",
     "output_type": "stream",
     "text": [
      "[0, 8, 16, 17, 26, 31, 37, 43, 44, 51, 57]\n",
      "{0: 'G', 8: 'G08G1/096827', 16: 'G01C21/3605', 17: 'G01C21/362', 26: 'G08G1/096838', 31: 'G08G1/123', 37: 'G08G1/127', 43: 'G08G1/127', 44: 'G08G1/13', 51: 'G08G1/137', 57: 'G08G1/202'}\n",
      "\n",
      "{0: 'G', 1: 'G08G1/096827', 2: 'G01C21/3605', 3: 'G01C21/362', 4: 'G08G1/096838', 5: 'G08G1/123', 6: 'G08G1/127', 7: 'G08G1/127', 8: 'G08G1/13', 9: 'G08G1/137', 10: 'G08G1/202'}\n",
      "\n",
      "G08G1/096827  : \n",
      "SIGNALLING >> TRAFFIC CONTROL SYSTEMS >> Traffic control systems for road vehicles >> Arrangements for giving variable traffic instructions >> Arrangements for giving variable traffic instructions having an indicator mounted inside the vehicle, e.g. giving voice messages >> Systems involving transmission of navigation instructions to the vehicle >> Systems involving transmission of navigation instructions to the vehicle where the transmitted instructions are used to compute a route >> Systems involving transmission of navigation instructions to the vehicle where the transmitted instructions are used to compute a route where the route is computed onboard\n",
      "\n",
      "G01C21/3605  : \n",
      "PHYSICS >> MEASURING; TESTING >> MEASURING DISTANCES, LEVELS OR BEARINGS; SURVEYING; NAVIGATION; GYROSCOPIC INSTRUMENTS; PHOTOGRAMMETRY OR VIDEOGRAMMETRY >> Navigation; Navigational instruments not provided for in preceding groups G01C1/00-G01C19/00 >> Navigation; Navigational instruments not provided for in preceding groups G01C1/00-G01C19/00 specially adapted for navigation in a road network >> Route searching; Route guidance >> Input/output arrangements for on-board computers >> Destination input or retrieval\n",
      "\n",
      "G01C21/362  : \n",
      "Destination input or retrieval received from an external device or application, e.g. PDA, mobile phone or calendar application\n",
      "\n",
      "G08G1/096838  : \n",
      "PHYSICS >> SIGNALLING >> TRAFFIC CONTROL SYSTEMS >> Traffic control systems for road vehicles >> Arrangements for giving variable traffic instructions >> Arrangements for giving variable traffic instructions having an indicator mounted inside the vehicle, e.g. giving voice messages >> Systems involving transmission of navigation instructions to the vehicle >> Systems involving transmission of navigation instructions to the vehicle where different aspects are considered when computing the route >> Systems involving transmission of navigation instructions to the vehicle where different aspects are considered when computing the route where the user preferences are taken into account or the user selects one route out of a plurality\n",
      "\n",
      "G08G1/123  : \n",
      "PHYSICS >> SIGNALLING >> TRAFFIC CONTROL SYSTEMS >> Traffic control systems for road vehicles >> Traffic control systems for road vehicles indicating the position of vehicles, e.g. scheduled vehicles; Managing passenger vehicles circulating according to a fixed timetable, e.g. buses, trains, trams\n",
      "\n",
      "G08G1/127  : \n",
      "PHYSICS >> SIGNALLING >> TRAFFIC CONTROL SYSTEMS >> Traffic control systems for road vehicles >> Traffic control systems for road vehicles indicating the position of vehicles, e.g. scheduled vehicles; Managing passenger vehicles circulating according to a fixed timetable, e.g. buses, trains, trams >> Traffic control systems for road vehicles indicating the position of vehicles, e.g. scheduled vehicles; Managing passenger vehicles circulating according to a fixed timetable, e.g. buses, trains, trams to a central station ; Indicators in a central station\n",
      "\n",
      "G08G1/127  : \n",
      "PHYSICS >> SIGNALLING >> TRAFFIC CONTROL SYSTEMS >> Traffic control systems for road vehicles >> Traffic control systems for road vehicles indicating the position of vehicles, e.g. scheduled vehicles; Managing passenger vehicles circulating according to a fixed timetable, e.g. buses, trains, trams >> Traffic control systems for road vehicles indicating the position of vehicles, e.g. scheduled vehicles; Managing passenger vehicles circulating according to a fixed timetable, e.g. buses, trains, trams to a central station ; Indicators in a central station\n",
      "\n",
      "G08G1/13  : \n",
      "Traffic control systems for road vehicles indicating the position of vehicles, e.g. scheduled vehicles; Managing passenger vehicles circulating according to a fixed timetable, e.g. buses, trains, trams to a central station ; Indicators in a central station the indicator being in the form of a map\n",
      "\n",
      "G08G1/137  : \n",
      "PHYSICS >> SIGNALLING >> TRAFFIC CONTROL SYSTEMS >> Traffic control systems for road vehicles >> Traffic control systems for road vehicles indicating the position of vehicles, e.g. scheduled vehicles; Managing passenger vehicles circulating according to a fixed timetable, e.g. buses, trains, trams >> Traffic control systems for road vehicles indicating the position of vehicles, e.g. scheduled vehicles; Managing passenger vehicles circulating according to a fixed timetable, e.g. buses, trains, trams within the vehicle ; Indicators inside the vehicles or at stops >> Traffic control systems for road vehicles indicating the position of vehicles, e.g. scheduled vehicles; Managing passenger vehicles circulating according to a fixed timetable, e.g. buses, trains, trams within the vehicle ; Indicators inside the vehicles or at stops the indicator being in the form of a map\n",
      "\n",
      "G08G1/202  : \n",
      "PHYSICS >> SIGNALLING >> TRAFFIC CONTROL SYSTEMS >> Traffic control systems for road vehicles >> Monitoring the location of vehicles belonging to a group, e.g. fleet of vehicles, countable or determined number of vehicles\n",
      "\n"
     ]
    }
   ],
   "source": [
    "from urllib.request import Request, urlopen\n",
    "from bs4 import BeautifulSoup\n",
    "import requests\n",
    "#page1=requests.get(\"https://patents.google.com/patent/US8698642B2/en\")\n",
    "#page1=requests.get(\"https://patents.google.com/patent/US20090240427A1/en?oq=US20090240427A1\")\n",
    "page1=requests.get(\"https://patents.google.com/patent/US20090234578A1/en?oq=US20090234578A1\")\n",
    "\n",
    "soup = BeautifulSoup(page1.content, 'html.parser')\n",
    "#soup.find_all('span',{'class':'description style-scope classification-tree'})\n",
    "soup.find_all('span')\n",
    "soup.find_all('span',{'itemprop':'Code'})\n",
    "\n",
    "lst=[]\n",
    "for link in soup.find_all('span',{'itemprop':'Code'}):  # iterate over every <a> tag\n",
    "    lst.append(link.get_text())\n",
    "    \n",
    "lst2=[]\n",
    "for link in soup.find_all('span',{'itemprop':'Description'}):  # iterate over every <a> tag\n",
    "    lst2.append(link.get_text())\n",
    "#print(lst2)\n",
    "\n",
    "\n",
    "lst1=[]\n",
    "idx=[0]\n",
    "count=0\n",
    "l=len(lst)\n",
    "for i in range(len(lst)):\n",
    "    #print(len(lst[i]))\n",
    "    #print(len(i)+1)\n",
    "    if i==len(lst)-1:\n",
    "        break\n",
    "    if len(lst[i])<=(len(lst[i+1])):\n",
    "        lst1.append(lst2[i])\n",
    "        count+=1\n",
    "    else:\n",
    "        lst1.append(lst2[i])\n",
    "        #print(i)\n",
    "        idx.append(i)\n",
    "        #print(' >> '.join(lst1))\n",
    "        #del lst[0:count]\n",
    "        continue\n",
    "#print(' >> '.join(lst1))\n",
    "idx.append(len(lst)-1)\n",
    "print(idx)\n",
    "\n",
    "\n",
    "dct={}\n",
    "for i in range(0,len(idx)):\n",
    "    dct[idx[i]]=lst[idx[i]]    \n",
    "print(dct, end=\"\\n\\n\")\n",
    "\n",
    "dct0={}\n",
    "for i in range(0,len(idx)):\n",
    "    dct0[i]=lst[idx[i]]    \n",
    "print(dct0,end=\"\\n\\n\")\n",
    "\n",
    "for i in range(len(idx)):\n",
    "    if i==len(idx)-1:\n",
    "        break\n",
    "    #print(lst[idx[i]+1:idx[i+1]+1])\n",
    "\n",
    "for i in range(len(idx)):\n",
    "    if i==len(idx)-1:\n",
    "        break\n",
    "    print(dct0[i+1] , \" : \")\n",
    "    print(' >> '.join(lst1[idx[i]+1:idx[i+1]+1]), end =\"\\n\\n\")"
   ]
  },
  {
   "cell_type": "code",
   "execution_count": null,
   "metadata": {},
   "outputs": [],
   "source": []
  },
  {
   "cell_type": "code",
   "execution_count": null,
   "metadata": {},
   "outputs": [],
   "source": []
  },
  {
   "cell_type": "code",
   "execution_count": null,
   "metadata": {},
   "outputs": [],
   "source": []
  },
  {
   "cell_type": "code",
   "execution_count": null,
   "metadata": {},
   "outputs": [],
   "source": []
  },
  {
   "cell_type": "code",
   "execution_count": null,
   "metadata": {},
   "outputs": [],
   "source": []
  }
 ],
 "metadata": {
  "kernelspec": {
   "display_name": "Python 3",
   "language": "python",
   "name": "python3"
  },
  "language_info": {
   "codemirror_mode": {
    "name": "ipython",
    "version": 3
   },
   "file_extension": ".py",
   "mimetype": "text/x-python",
   "name": "python",
   "nbconvert_exporter": "python",
   "pygments_lexer": "ipython3",
   "version": "3.6.4"
  }
 },
 "nbformat": 4,
 "nbformat_minor": 2
}
